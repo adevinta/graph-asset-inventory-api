{
 "cells": [
  {
   "cell_type": "markdown",
   "id": "86cb0076",
   "metadata": {},
   "source": [
    "# Gremlin"
   ]
  },
  {
   "cell_type": "markdown",
   "id": "bd9cd8f1",
   "metadata": {},
   "source": [
    "Configure the gremlin-server endpoint"
   ]
  },
  {
   "cell_type": "code",
   "execution_count": null,
   "id": "fc0e824f",
   "metadata": {
    "scrolled": true
   },
   "outputs": [],
   "source": [
    "%%graph_notebook_config\n",
    "{\n",
    "  \"host\": \"gremlin-server\",\n",
    "  \"port\": 8182,\n",
    "  \"auth_mode\": \"DEFAULT\",\n",
    "  \"iam_credentials_provider_type\": \"ENV\",\n",
    "  \"load_from_s3_arn\": \"\",\n",
    "  \"ssl\": false,\n",
    "  \"aws_region\": \"\"\n",
    "}"
   ]
  },
  {
   "cell_type": "markdown",
   "id": "41de39c3",
   "metadata": {},
   "source": [
    "In the case of Neptune,"
   ]
  },
  {
   "cell_type": "code",
   "execution_count": null,
   "id": "f877c193",
   "metadata": {
    "scrolled": true
   },
   "outputs": [],
   "source": [
    "%%graph_notebook_config\n",
    "{\n",
    "  \"host\": \"example.cluster.eu-west-1.neptune.amazonaws.com\",\n",
    "  \"port\": 8182,\n",
    "  \"auth_mode\": \"IAM\",\n",
    "  \"iam_credentials_provider_type\": \"ENV\",\n",
    "  \"load_from_s3_arn\": \"\",\n",
    "  \"ssl\": true,\n",
    "  \"aws_region\": \"eu-west-1\"\n",
    "}"
   ]
  },
  {
   "cell_type": "markdown",
   "id": "ca4e8c74",
   "metadata": {},
   "source": [
    "Count the number of Vertices"
   ]
  },
  {
   "cell_type": "code",
   "execution_count": null,
   "id": "40dc5eee",
   "metadata": {},
   "outputs": [],
   "source": [
    "%%gremlin\n",
    "g.V().count()"
   ]
  },
  {
   "cell_type": "markdown",
   "id": "f3823c95",
   "metadata": {},
   "source": [
    "List some Vertices and their properties"
   ]
  },
  {
   "cell_type": "code",
   "execution_count": null,
   "id": "b974ac47",
   "metadata": {},
   "outputs": [],
   "source": [
    "%%gremlin\n",
    "g.V().limit(500).elementMap()"
   ]
  },
  {
   "cell_type": "markdown",
   "id": "153f444d",
   "metadata": {},
   "source": [
    "Drop all vertices"
   ]
  },
  {
   "cell_type": "code",
   "execution_count": null,
   "id": "44d15e97",
   "metadata": {},
   "outputs": [],
   "source": [
    "%%gremlin\n",
    "g.V().drop()"
   ]
  },
  {
   "cell_type": "markdown",
   "id": "99d5808f",
   "metadata": {},
   "source": [
    "# Python"
   ]
  },
  {
   "cell_type": "markdown",
   "id": "c538d3b9",
   "metadata": {},
   "source": [
    "Import required modules"
   ]
  },
  {
   "cell_type": "code",
   "execution_count": null,
   "id": "3973d259",
   "metadata": {},
   "outputs": [],
   "source": [
    "import uuid\n",
    "\n",
    "from gremlin_python.driver.driver_remote_connection import DriverRemoteConnection\n",
    "from gremlin_python.process.anonymous_traversal import traversal\n",
    "from gremlin_python.process.traversal import T, Cardinality\n",
    "\n",
    "from neptune_helper import get_neptune_iam_connection"
   ]
  },
  {
   "cell_type": "markdown",
   "id": "d5a42fdd",
   "metadata": {},
   "source": [
    "Configure DB connection"
   ]
  },
  {
   "cell_type": "code",
   "execution_count": null,
   "id": "37daa91c",
   "metadata": {},
   "outputs": [],
   "source": [
    "conn = DriverRemoteConnection(f'ws://gremlin-server:8182/gremlin', 'g')\n",
    "g = traversal().withRemote(conn)"
   ]
  },
  {
   "cell_type": "markdown",
   "id": "d5b88f7c",
   "metadata": {},
   "source": [
    "In the case of Neptune,"
   ]
  },
  {
   "cell_type": "code",
   "execution_count": null,
   "id": "bd5d62a5",
   "metadata": {},
   "outputs": [],
   "source": [
    "conn = get_neptune_iam_connection('example.cluster.eu-west-1.neptune.amazonaws.com', 8182)\n",
    "g = traversal().withRemote(conn)"
   ]
  },
  {
   "cell_type": "markdown",
   "id": "63019133",
   "metadata": {},
   "source": [
    "Add a vertex"
   ]
  },
  {
   "cell_type": "code",
   "execution_count": null,
   "id": "6e7c6c7a",
   "metadata": {},
   "outputs": [],
   "source": [
    "g.addV('v1') \\\n",
    "    .property(T.id, str(uuid.uuid4())) \\\n",
    "    .property(Cardinality.single, 'prop', 'val') \\\n",
    "    .next()"
   ]
  },
  {
   "cell_type": "markdown",
   "id": "908c4130",
   "metadata": {},
   "source": [
    "List some Vertices and their properties"
   ]
  },
  {
   "cell_type": "code",
   "execution_count": null,
   "id": "240a7dc7",
   "metadata": {},
   "outputs": [],
   "source": [
    "g.V().limit(500).elementMap().toList()"
   ]
  }
 ],
 "metadata": {
  "kernelspec": {
   "display_name": "Python 3",
   "language": "python",
   "name": "python3"
  },
  "language_info": {
   "codemirror_mode": {
    "name": "ipython",
    "version": 3
   },
   "file_extension": ".py",
   "mimetype": "text/x-python",
   "name": "python",
   "nbconvert_exporter": "python",
   "pygments_lexer": "ipython3",
   "version": "3.6.12"
  }
 },
 "nbformat": 4,
 "nbformat_minor": 5
}
