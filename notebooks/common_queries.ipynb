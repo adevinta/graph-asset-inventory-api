{
 "cells": [
  {
   "cell_type": "markdown",
   "id": "0dd3badf",
   "metadata": {},
   "source": [
    "# Gremlin"
   ]
  },
  {
   "cell_type": "markdown",
   "id": "c6dad1a5",
   "metadata": {},
   "source": [
    "Configure the gremlin-server endpoint"
   ]
  },
  {
   "cell_type": "code",
   "execution_count": null,
   "id": "f7512c03",
   "metadata": {
    "scrolled": true
   },
   "outputs": [],
   "source": [
    "%%graph_notebook_config\n",
    "{\n",
    "  \"host\": \"gremlin-server\",\n",
    "  \"port\": 8182,\n",
    "  \"auth_mode\": \"DEFAULT\",\n",
    "  \"iam_credentials_provider_type\": \"ENV\",\n",
    "  \"load_from_s3_arn\": \"\",\n",
    "  \"ssl\": false,\n",
    "  \"aws_region\": \"\"\n",
    "}"
   ]
  },
  {
   "cell_type": "markdown",
   "id": "860aed38",
   "metadata": {},
   "source": [
    "Count the number of Vertices"
   ]
  },
  {
   "cell_type": "code",
   "execution_count": null,
   "id": "3cf8c7b3",
   "metadata": {},
   "outputs": [],
   "source": [
    "%%gremlin\n",
    "g.V().count()"
   ]
  },
  {
   "cell_type": "markdown",
   "id": "c5afd48a",
   "metadata": {},
   "source": [
    "List some Vertices and their properties"
   ]
  },
  {
   "cell_type": "code",
   "execution_count": null,
   "id": "4e239c05",
   "metadata": {},
   "outputs": [],
   "source": [
    "%%gremlin\n",
    "g.V().limit(500).valueMap()"
   ]
  },
  {
   "cell_type": "markdown",
   "id": "7f8937ec",
   "metadata": {},
   "source": [
    "Drop all vertices"
   ]
  },
  {
   "cell_type": "code",
   "execution_count": null,
   "id": "88c7c6d5",
   "metadata": {},
   "outputs": [],
   "source": [
    "%%gremlin\n",
    "g.V().drop()"
   ]
  },
  {
   "cell_type": "markdown",
   "id": "c9445474",
   "metadata": {},
   "source": [
    "# Python"
   ]
  },
  {
   "cell_type": "markdown",
   "id": "a73246fe",
   "metadata": {},
   "source": [
    "Import required modules"
   ]
  },
  {
   "cell_type": "code",
   "execution_count": null,
   "id": "d0fbb3d0",
   "metadata": {},
   "outputs": [],
   "source": [
    "from datetime import datetime\n",
    "\n",
    "from gremlin_python.structure.graph import Graph\n",
    "from gremlin_python.driver.driver_remote_connection import DriverRemoteConnection"
   ]
  },
  {
   "cell_type": "markdown",
   "id": "e17a7633",
   "metadata": {},
   "source": [
    "Configure DB connection"
   ]
  },
  {
   "cell_type": "code",
   "execution_count": null,
   "id": "654297cd",
   "metadata": {},
   "outputs": [],
   "source": [
    "neptune_endpoint = 'gremlin-server:8182'\n",
    "conn = DriverRemoteConnection(f'ws://{neptune_endpoint}/gremlin', 'g')\n",
    "g = Graph().traversal().withRemote(conn)"
   ]
  },
  {
   "cell_type": "markdown",
   "id": "c0118c52",
   "metadata": {},
   "source": [
    "Add an asset"
   ]
  },
  {
   "cell_type": "code",
   "execution_count": null,
   "id": "b47a0279",
   "metadata": {},
   "outputs": [],
   "source": [
    "first_seen = datetime.fromisoformat('2021-07-01T01:00:00')\n",
    "last_seen = datetime.fromisoformat('2021-07-07T01:00:00')\n",
    "expiration = datetime.fromisoformat('2021-07-14T01:00:00')\n",
    "\n",
    "g.V().drop().iterate()\n",
    "g.addV('Asset') \\\n",
    "    .property('type', 'type0') \\\n",
    "    .property('identifier', 'identifier0') \\\n",
    "    .property('first_seen', first_seen) \\\n",
    "    .property('last_seen', last_seen) \\\n",
    "    .property('expiration', expiration) \\\n",
    "    .next()"
   ]
  },
  {
   "cell_type": "markdown",
   "id": "439c48dd",
   "metadata": {},
   "source": [
    "List some Vertices and their properties"
   ]
  },
  {
   "cell_type": "code",
   "execution_count": null,
   "id": "42ea0816",
   "metadata": {},
   "outputs": [],
   "source": [
    "g.V().limit(500).elementMap().toList()"
   ]
  }
 ],
 "metadata": {
  "kernelspec": {
   "display_name": "Python 3",
   "language": "python",
   "name": "python3"
  },
  "language_info": {
   "codemirror_mode": {
    "name": "ipython",
    "version": 3
   },
   "file_extension": ".py",
   "mimetype": "text/x-python",
   "name": "python",
   "nbconvert_exporter": "python",
   "pygments_lexer": "ipython3",
   "version": "3.9.5"
  }
 },
 "nbformat": 4,
 "nbformat_minor": 5
}
