{
 "cells": [
  {
   "cell_type": "markdown",
   "id": "eb3e506a",
   "metadata": {},
   "source": [
    "# Gremlin"
   ]
  },
  {
   "cell_type": "markdown",
   "id": "d4b3c277",
   "metadata": {},
   "source": [
    "Configure the gremlin-server endpoint"
   ]
  },
  {
   "cell_type": "code",
   "execution_count": null,
   "id": "478f6ef6",
   "metadata": {
    "scrolled": true
   },
   "outputs": [],
   "source": [
    "%%graph_notebook_config\n",
    "{\n",
    "  \"host\": \"gremlin-server\",\n",
    "  \"port\": 8182,\n",
    "  \"auth_mode\": \"DEFAULT\",\n",
    "  \"iam_credentials_provider_type\": \"ENV\",\n",
    "  \"load_from_s3_arn\": \"\",\n",
    "  \"ssl\": false,\n",
    "  \"aws_region\": \"\"\n",
    "}"
   ]
  },
  {
   "cell_type": "markdown",
   "id": "7af6bbc7",
   "metadata": {},
   "source": [
    "Count the number of Vertices"
   ]
  },
  {
   "cell_type": "code",
   "execution_count": null,
   "id": "519b1660",
   "metadata": {},
   "outputs": [],
   "source": [
    "%%gremlin\n",
    "g.V().count()"
   ]
  },
  {
   "cell_type": "markdown",
   "id": "bf8cad3c",
   "metadata": {},
   "source": [
    "List some Vertices and their properties"
   ]
  },
  {
   "cell_type": "code",
   "execution_count": null,
   "id": "8c5cc05c",
   "metadata": {},
   "outputs": [],
   "source": [
    "%%gremlin\n",
    "g.V().limit(500).valueMap()"
   ]
  },
  {
   "cell_type": "markdown",
   "id": "5c1f3d10",
   "metadata": {},
   "source": [
    "Drop all vertices"
   ]
  },
  {
   "cell_type": "code",
   "execution_count": null,
   "id": "738a54a4",
   "metadata": {},
   "outputs": [],
   "source": [
    "%%gremlin\n",
    "g.V().drop()"
   ]
  },
  {
   "cell_type": "markdown",
   "id": "377b06aa",
   "metadata": {},
   "source": [
    "# Python"
   ]
  },
  {
   "cell_type": "markdown",
   "id": "2a61608e",
   "metadata": {},
   "source": [
    "Import required modules"
   ]
  },
  {
   "cell_type": "code",
   "execution_count": null,
   "id": "12eb0393",
   "metadata": {},
   "outputs": [],
   "source": [
    "from datetime import datetime\n",
    "\n",
    "from gremlin_python.structure.graph import Graph\n",
    "from gremlin_python.driver.driver_remote_connection import DriverRemoteConnection"
   ]
  },
  {
   "cell_type": "markdown",
   "id": "c78ad738",
   "metadata": {},
   "source": [
    "Configure DB connection"
   ]
  },
  {
   "cell_type": "code",
   "execution_count": null,
   "id": "2ac313e4",
   "metadata": {},
   "outputs": [],
   "source": [
    "neptune_endpoint = 'gremlin-server:8182'\n",
    "conn = DriverRemoteConnection(f'ws://{neptune_endpoint}/gremlin', 'g')\n",
    "g = Graph().traversal().withRemote(conn)"
   ]
  },
  {
   "cell_type": "markdown",
   "id": "017c6809",
   "metadata": {},
   "source": [
    "Add an asset"
   ]
  },
  {
   "cell_type": "code",
   "execution_count": null,
   "id": "19612949",
   "metadata": {},
   "outputs": [],
   "source": [
    "first_seen = datetime.fromisoformat('2021-07-01T01:00:00+00:00')\n",
    "last_seen = datetime.fromisoformat('2021-07-07T01:00:00+00:00')\n",
    "expiration = datetime.fromisoformat('2021-07-14T01:00:00+00:00')\n",
    "\n",
    "g.V().drop().iterate()\n",
    "g.addV('Asset') \\\n",
    "    .property('type', 'type0') \\\n",
    "    .property('identifier', 'identifier0') \\\n",
    "    .property('first_seen', first_seen) \\\n",
    "    .property('last_seen', last_seen) \\\n",
    "    .property('expiration', expiration) \\\n",
    "    .next()"
   ]
  },
  {
   "cell_type": "markdown",
   "id": "50c94cc7",
   "metadata": {},
   "source": [
    "List some Vertices and their properties"
   ]
  },
  {
   "cell_type": "code",
   "execution_count": null,
   "id": "ca0b8797",
   "metadata": {},
   "outputs": [],
   "source": [
    "g.V().limit(500).elementMap().toList()"
   ]
  }
 ],
 "metadata": {
  "kernelspec": {
   "display_name": "Python 3",
   "language": "python",
   "name": "python3"
  },
  "language_info": {
   "codemirror_mode": {
    "name": "ipython",
    "version": 3
   },
   "file_extension": ".py",
   "mimetype": "text/x-python",
   "name": "python",
   "nbconvert_exporter": "python",
   "pygments_lexer": "ipython3",
   "version": "3.9.5"
  }
 },
 "nbformat": 4,
 "nbformat_minor": 5
}
