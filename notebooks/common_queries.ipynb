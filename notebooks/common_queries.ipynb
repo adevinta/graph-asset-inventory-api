{
 "cells": [
  {
   "cell_type": "markdown",
   "id": "a7a45ab8",
   "metadata": {},
   "source": [
    "# Gremlin"
   ]
  },
  {
   "cell_type": "markdown",
   "id": "21a6f0f1",
   "metadata": {},
   "source": [
    "Configure the gremlin-server endpoint"
   ]
  },
  {
   "cell_type": "code",
   "execution_count": null,
   "id": "c865e2fa",
   "metadata": {
    "scrolled": true
   },
   "outputs": [],
   "source": [
    "%%graph_notebook_config\n",
    "{\n",
    "  \"host\": \"gremlin-server\",\n",
    "  \"port\": 8182,\n",
    "  \"auth_mode\": \"DEFAULT\",\n",
    "  \"iam_credentials_provider_type\": \"ENV\",\n",
    "  \"load_from_s3_arn\": \"\",\n",
    "  \"ssl\": false,\n",
    "  \"aws_region\": \"\"\n",
    "}"
   ]
  },
  {
   "cell_type": "markdown",
   "id": "744c0f9a",
   "metadata": {},
   "source": [
    "Count the number of Vertices"
   ]
  },
  {
   "cell_type": "code",
   "execution_count": null,
   "id": "29f8badd",
   "metadata": {},
   "outputs": [],
   "source": [
    "%%gremlin\n",
    "g.V().count()"
   ]
  },
  {
   "cell_type": "markdown",
   "id": "c6049319",
   "metadata": {},
   "source": [
    "List some Vertices and their properties"
   ]
  },
  {
   "cell_type": "code",
   "execution_count": null,
   "id": "46dcd401",
   "metadata": {},
   "outputs": [],
   "source": [
    "%%gremlin\n",
    "g.V().limit(500).elementMap()"
   ]
  },
  {
   "cell_type": "markdown",
   "id": "4122bcf8",
   "metadata": {},
   "source": [
    "Drop all vertices"
   ]
  },
  {
   "cell_type": "code",
   "execution_count": null,
   "id": "dda4dbaa",
   "metadata": {},
   "outputs": [],
   "source": [
    "%%gremlin\n",
    "g.V().drop()"
   ]
  },
  {
   "cell_type": "markdown",
   "id": "94b88f08",
   "metadata": {},
   "source": [
    "# Python"
   ]
  },
  {
   "cell_type": "markdown",
   "id": "c052794e",
   "metadata": {},
   "source": [
    "Import required modules"
   ]
  },
  {
   "cell_type": "code",
   "execution_count": null,
   "id": "65dfe76a",
   "metadata": {},
   "outputs": [],
   "source": [
    "import uuid\n",
    "\n",
    "from gremlin_python.driver.driver_remote_connection import DriverRemoteConnection\n",
    "from gremlin_python.process.anonymous_traversal import traversal\n",
    "from gremlin_python.process.traversal import T, Cardinality\n",
    "\n",
    "from neptune_helper import get_neptune_iam_connection"
   ]
  },
  {
   "cell_type": "markdown",
   "id": "a93df4ee",
   "metadata": {},
   "source": [
    "Configure DB connection"
   ]
  },
  {
   "cell_type": "code",
   "execution_count": null,
   "id": "dceede2c",
   "metadata": {},
   "outputs": [],
   "source": [
    "conn = DriverRemoteConnection(f'ws://gremlin-server:8182/gremlin', 'g')\n",
    "g = traversal().withRemote(conn)"
   ]
  },
  {
   "cell_type": "markdown",
   "id": "e3a300c2",
   "metadata": {},
   "source": [
    "Add a vertex"
   ]
  },
  {
   "cell_type": "code",
   "execution_count": null,
   "id": "18ee0269",
   "metadata": {},
   "outputs": [],
   "source": [
    "g.addV('v1') \\\n",
    "    .property(T.id, str(uuid.uuid4())) \\\n",
    "    .property(Cardinality.single, 'prop', 'val') \\\n",
    "    .next()"
   ]
  },
  {
   "cell_type": "markdown",
   "id": "61f7e505",
   "metadata": {},
   "source": [
    "List some Vertices and their properties"
   ]
  },
  {
   "cell_type": "code",
   "execution_count": null,
   "id": "c6ee6e03",
   "metadata": {},
   "outputs": [],
   "source": [
    "g.V().limit(500).elementMap().toList()"
   ]
  }
 ],
 "metadata": {
  "kernelspec": {
   "display_name": "Python 3",
   "language": "python",
   "name": "python3"
  },
  "language_info": {
   "codemirror_mode": {
    "name": "ipython",
    "version": 3
   },
   "file_extension": ".py",
   "mimetype": "text/x-python",
   "name": "python",
   "nbconvert_exporter": "python",
   "pygments_lexer": "ipython3",
   "version": "3.6.12"
  }
 },
 "nbformat": 4,
 "nbformat_minor": 5
}
