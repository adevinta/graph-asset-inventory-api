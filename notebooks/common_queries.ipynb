{
 "cells": [
  {
   "cell_type": "markdown",
   "id": "444a70ff",
   "metadata": {},
   "source": [
    "# Gremlin"
   ]
  },
  {
   "cell_type": "markdown",
   "id": "0e03061c",
   "metadata": {},
   "source": [
    "Configure the gremlin-server endpoint"
   ]
  },
  {
   "cell_type": "code",
   "execution_count": null,
   "id": "f101e82d",
   "metadata": {
    "scrolled": true
   },
   "outputs": [],
   "source": [
    "%%graph_notebook_config\n",
    "{\n",
    "  \"host\": \"gremlin-server\",\n",
    "  \"port\": 8182,\n",
    "  \"auth_mode\": \"DEFAULT\",\n",
    "  \"iam_credentials_provider_type\": \"ENV\",\n",
    "  \"load_from_s3_arn\": \"\",\n",
    "  \"ssl\": false,\n",
    "  \"aws_region\": \"\"\n",
    "}"
   ]
  },
  {
   "cell_type": "markdown",
   "id": "c4956943",
   "metadata": {},
   "source": [
    "Count the number of Vertices"
   ]
  },
  {
   "cell_type": "code",
   "execution_count": null,
   "id": "1203a036",
   "metadata": {},
   "outputs": [],
   "source": [
    "%%gremlin\n",
    "g.V().count()"
   ]
  },
  {
   "cell_type": "markdown",
   "id": "b8c457f8",
   "metadata": {},
   "source": [
    "List some Vertices and their properties"
   ]
  },
  {
   "cell_type": "code",
   "execution_count": null,
   "id": "4cb8d2d7",
   "metadata": {},
   "outputs": [],
   "source": [
    "%%gremlin\n",
    "g.V().order().by(id, asc).elementMap()"
   ]
  },
  {
   "cell_type": "markdown",
   "id": "0b14ac36",
   "metadata": {},
   "source": [
    "Drop all vertices"
   ]
  },
  {
   "cell_type": "code",
   "execution_count": null,
   "id": "891f1f6e",
   "metadata": {},
   "outputs": [],
   "source": [
    "%%gremlin\n",
    "g.V().drop()"
   ]
  },
  {
   "cell_type": "markdown",
   "id": "b2c008f9",
   "metadata": {},
   "source": [
    "# Python"
   ]
  },
  {
   "cell_type": "markdown",
   "id": "a1076024",
   "metadata": {},
   "source": [
    "Import required modules"
   ]
  },
  {
   "cell_type": "code",
   "execution_count": null,
   "id": "ffddd6e4",
   "metadata": {},
   "outputs": [],
   "source": [
    "import uuid\n",
    "from datetime import datetime\n",
    "\n",
    "from gremlin_python.structure.graph import Graph\n",
    "from gremlin_python.driver.driver_remote_connection import DriverRemoteConnection\n",
    "from gremlin_python.process.traversal import (\n",
    "    T,\n",
    "    Cardinality,\n",
    ")"
   ]
  },
  {
   "cell_type": "markdown",
   "id": "a6d5042d",
   "metadata": {},
   "source": [
    "Configure DB connection"
   ]
  },
  {
   "cell_type": "code",
   "execution_count": null,
   "id": "683fad22",
   "metadata": {},
   "outputs": [],
   "source": [
    "neptune_endpoint = 'gremlin-server:8182'\n",
    "conn = DriverRemoteConnection(f'ws://{neptune_endpoint}/gremlin', 'g')\n",
    "g = Graph().traversal().withRemote(conn)"
   ]
  },
  {
   "cell_type": "markdown",
   "id": "cb0b0a54",
   "metadata": {},
   "source": [
    "Add an asset"
   ]
  },
  {
   "cell_type": "code",
   "execution_count": null,
   "id": "88d7c6f9",
   "metadata": {},
   "outputs": [],
   "source": [
    "first_seen = datetime.fromisoformat('2021-07-01T01:00:00+00:00')\n",
    "last_seen = datetime.fromisoformat('2021-07-07T01:00:00+00:00')\n",
    "expiration = datetime.fromisoformat('2021-07-14T01:00:00+00:00')\n",
    "\n",
    "g.V().drop().iterate()\n",
    "g.addV('Asset') \\\n",
    "    .property(T.id, str(uuid.uuid4())) \\\n",
    "    .property(Cardinality.single, 'type', 'type0') \\\n",
    "    .property(Cardinality.single, 'identifier', 'identifier0') \\\n",
    "    .property(Cardinality.single, 'first_seen', first_seen) \\\n",
    "    .property(Cardinality.single, 'last_seen', last_seen) \\\n",
    "    .property(Cardinality.single, 'expiration', expiration) \\\n",
    "    .next()"
   ]
  },
  {
   "cell_type": "markdown",
   "id": "bd3c9ddc",
   "metadata": {},
   "source": [
    "List some Vertices and their properties"
   ]
  },
  {
   "cell_type": "code",
   "execution_count": null,
   "id": "3129f828",
   "metadata": {},
   "outputs": [],
   "source": [
    "g.V().limit(500).elementMap().toList()"
   ]
  }
 ],
 "metadata": {
  "kernelspec": {
   "display_name": "Python 3",
   "language": "python",
   "name": "python3"
  },
  "language_info": {
   "codemirror_mode": {
    "name": "ipython",
    "version": 3
   },
   "file_extension": ".py",
   "mimetype": "text/x-python",
   "name": "python",
   "nbconvert_exporter": "python",
   "pygments_lexer": "ipython3",
   "version": "3.9.5"
  }
 },
 "nbformat": 4,
 "nbformat_minor": 5
}
